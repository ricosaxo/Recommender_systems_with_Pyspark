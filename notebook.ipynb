{
 "cells": [
  {
   "cell_type": "code",
   "execution_count": 152,
   "metadata": {},
   "outputs": [
    {
     "data": {
      "text/html": [
       "\n",
       "            <div>\n",
       "                <p><b>SparkSession - in-memory</b></p>\n",
       "                \n",
       "        <div>\n",
       "            <p><b>SparkContext</b></p>\n",
       "\n",
       "            <p><a href=\"http://DESKTOP-PMIC5J8.fritz.box:4040\">Spark UI</a></p>\n",
       "\n",
       "            <dl>\n",
       "              <dt>Version</dt>\n",
       "                <dd><code>v3.5.4</code></dd>\n",
       "              <dt>Master</dt>\n",
       "                <dd><code>local[*]</code></dd>\n",
       "              <dt>AppName</dt>\n",
       "                <dd><code>Recommender</code></dd>\n",
       "            </dl>\n",
       "        </div>\n",
       "        \n",
       "            </div>\n",
       "        "
      ],
      "text/plain": [
       "<pyspark.sql.session.SparkSession at 0x252a3d9aaa0>"
      ]
     },
     "execution_count": 152,
     "metadata": {},
     "output_type": "execute_result"
    }
   ],
   "source": [
    "#importing the required pyspark library \n",
    "from pyspark.sql import SparkSession \n",
    "from pyspark.ml.evaluation import RegressionEvaluator \n",
    "from pyspark.ml.recommendation import ALS\n",
    "from pyspark.sql.functions import avg, min, max\n",
    "from pyspark.ml.tuning import ParamGridBuilder, CrossValidator \n",
    "  \n",
    "#Setup Spark Session \n",
    "spark = SparkSession.builder.appName('Recommender').getOrCreate() \n",
    "spark"
   ]
  },
  {
   "cell_type": "code",
   "execution_count": 153,
   "metadata": {},
   "outputs": [
    {
     "name": "stdout",
     "output_type": "stream",
     "text": [
      "+------+-------+------+---------+\n",
      "|userId|movieId|rating|timestamp|\n",
      "+------+-------+------+---------+\n",
      "|     1|      1|   4.0|964982703|\n",
      "|     1|      3|   4.0|964981247|\n",
      "|     1|      6|   4.0|964982224|\n",
      "|     1|     47|   5.0|964983815|\n",
      "|     1|     50|   5.0|964982931|\n",
      "+------+-------+------+---------+\n",
      "only showing top 5 rows\n",
      "\n"
     ]
    }
   ],
   "source": [
    "ratings = spark.read.csv('ratings.csv', \n",
    "                      inferSchema=True,header=True) \n",
    "  \n",
    "ratings.show(5)"
   ]
  },
  {
   "cell_type": "code",
   "execution_count": 154,
   "metadata": {},
   "outputs": [
    {
     "name": "stdout",
     "output_type": "stream",
     "text": [
      "The ratings dataframe is  98.30% empty.\n"
     ]
    }
   ],
   "source": [
    "# Count the total number of ratings in the dataset\n",
    "numerator = ratings.select(\"rating\").count()\n",
    "\n",
    "# Count the number of distinct userIds and distinct movieIds\n",
    "num_users = ratings.select(\"userId\").distinct().count()\n",
    "num_movies = ratings.select(\"movieId\").distinct().count()\n",
    "\n",
    "# Set the denominator equal to the number of users multiplied by the number of movies\n",
    "denominator = num_users * num_movies\n",
    "\n",
    "# Divide the numerator by the denominator\n",
    "sparsity = (1.0 - (numerator *1.0)/denominator)*100\n",
    "print(\"The ratings dataframe is \", \"%.2f\" % sparsity + \"% empty.\")"
   ]
  },
  {
   "cell_type": "code",
   "execution_count": 155,
   "metadata": {},
   "outputs": [
    {
     "name": "stdout",
     "output_type": "stream",
     "text": [
      "Movie with the fewest ratings: \n",
      "+----------+\n",
      "|min(count)|\n",
      "+----------+\n",
      "|         1|\n",
      "+----------+\n",
      "\n",
      "Avg num ratings per movie: \n",
      "+------------------+\n",
      "|        avg(count)|\n",
      "+------------------+\n",
      "|10.369806663924312|\n",
      "+------------------+\n",
      "\n"
     ]
    }
   ],
   "source": [
    "# Min num ratings for movies\n",
    "print(\"Movie with the fewest ratings: \")\n",
    "ratings.groupBy(\"movieId\").count().select(min(\"count\")).show()\n",
    "\n",
    "# Avg num ratings per movie\n",
    "print(\"Avg num ratings per movie: \")\n",
    "ratings.groupBy(\"movieId\").count().select(avg(\"count\")).show()"
   ]
  },
  {
   "cell_type": "code",
   "execution_count": 156,
   "metadata": {},
   "outputs": [
    {
     "name": "stdout",
     "output_type": "stream",
     "text": [
      "root\n",
      " |-- userId: integer (nullable = true)\n",
      " |-- movieId: integer (nullable = true)\n",
      " |-- rating: double (nullable = true)\n",
      " |-- timestamp: integer (nullable = true)\n",
      "\n"
     ]
    }
   ],
   "source": [
    "ratings.printSchema()"
   ]
  },
  {
   "cell_type": "code",
   "execution_count": 157,
   "metadata": {},
   "outputs": [],
   "source": [
    "(training_data, test_data) = ratings.randomSplit([0.8, 0.2], seed=42)"
   ]
  },
  {
   "cell_type": "code",
   "execution_count": 158,
   "metadata": {},
   "outputs": [],
   "source": [
    "als = ALS(userCol=\"userId\", itemCol=\"movieId\", ratingCol=\"rating\", rank =10, maxIter =15, regParam =.1,\n",
    "          coldStartStrategy=\"drop\", nonnegative =True, implicitPrefs = False)"
   ]
  },
  {
   "cell_type": "code",
   "execution_count": 159,
   "metadata": {},
   "outputs": [],
   "source": [
    "model = als.fit(training_data)"
   ]
  },
  {
   "cell_type": "code",
   "execution_count": 160,
   "metadata": {},
   "outputs": [],
   "source": [
    "test_predictions = model.transform(test_data)"
   ]
  },
  {
   "cell_type": "code",
   "execution_count": 161,
   "metadata": {},
   "outputs": [
    {
     "name": "stdout",
     "output_type": "stream",
     "text": [
      "+------+-------+------+----------+----------+\n",
      "|userId|movieId|rating| timestamp|prediction|\n",
      "+------+-------+------+----------+----------+\n",
      "|   463|   1088|   3.5|1145460096| 3.5548759|\n",
      "|   580|   3175|   2.5|1167792674| 3.5527954|\n",
      "|   580|  44022|   3.5|1167792560| 3.3059227|\n",
      "|   362|   1645|   5.0|1530641485|  3.737258|\n",
      "|   597|   1959|   4.0| 941640006|  4.143024|\n",
      "|   155|   3175|   4.0| 961861723| 3.8306065|\n",
      "|   368|   2122|   2.0| 971277319| 2.2190294|\n",
      "|   115|   1645|   4.0| 957648208|  3.344508|\n",
      "|   115|   3175|   4.0| 965425216| 3.4966578|\n",
      "|    28|   1645|   2.5|1242033151| 2.5583792|\n",
      "+------+-------+------+----------+----------+\n",
      "only showing top 10 rows\n",
      "\n"
     ]
    }
   ],
   "source": [
    "test_predictions.show(10)"
   ]
  },
  {
   "cell_type": "code",
   "execution_count": 162,
   "metadata": {},
   "outputs": [
    {
     "name": "stdout",
     "output_type": "stream",
     "text": [
      "rmse\n",
      "rating\n",
      "prediction\n"
     ]
    }
   ],
   "source": [
    "evaluator = RegressionEvaluator(metricName=\"rmse\", labelCol=\"rating\", predictionCol=\"prediction\")\n",
    "\n",
    "print(evaluator.getMetricName())\n",
    "print(evaluator.getLabelCol())\n",
    "print(evaluator.getPredictionCol())"
   ]
  },
  {
   "cell_type": "code",
   "execution_count": 163,
   "metadata": {},
   "outputs": [
    {
     "name": "stdout",
     "output_type": "stream",
     "text": [
      "0.8721631381144733\n"
     ]
    }
   ],
   "source": [
    "RMSE = evaluator.evaluate(test_predictions)\n",
    "print (RMSE)"
   ]
  },
  {
   "cell_type": "code",
   "execution_count": 164,
   "metadata": {},
   "outputs": [],
   "source": [
    "n = 5\n",
    "ALS_recommendations = model.recommendForAllUsers(n)"
   ]
  },
  {
   "cell_type": "code",
   "execution_count": 165,
   "metadata": {},
   "outputs": [
    {
     "name": "stdout",
     "output_type": "stream",
     "text": [
      "+------+--------------------+\n",
      "|userId|     recommendations|\n",
      "+------+--------------------+\n",
      "|     1|[{177593, 5.75963...|\n",
      "|     2|[{32892, 4.922302...|\n",
      "|     3|[{3837, 5.0004992...|\n",
      "|     4|[{2300, 4.974401}...|\n",
      "|     5|[{6380, 4.8630085...|\n",
      "|     6|[{185029, 4.97384...|\n",
      "|     7|[{1949, 5.0702825...|\n",
      "|     8|[{306, 5.039128},...|\n",
      "|     9|[{53123, 5.074069...|\n",
      "|    10|[{112804, 5.72640...|\n",
      "|    11|[{3099, 5.842291}...|\n",
      "|    12|[{6732, 5.85811},...|\n",
      "|    13|[{5075, 5.7361903...|\n",
      "|    14|[{49932, 5.495044...|\n",
      "|    15|[{27611, 5.620723...|\n",
      "|    16|[{25771, 4.520450...|\n",
      "|    17|[{96004, 5.040982...|\n",
      "|    18|[{96004, 4.848904...|\n",
      "|    19|[{96004, 4.288895...|\n",
      "|    20|[{177593, 5.60006...|\n",
      "+------+--------------------+\n",
      "only showing top 20 rows\n",
      "\n"
     ]
    }
   ],
   "source": [
    "ALS_recommendations.show()"
   ]
  },
  {
   "cell_type": "code",
   "execution_count": 166,
   "metadata": {},
   "outputs": [
    {
     "name": "stdout",
     "output_type": "stream",
     "text": [
      "+------+-------------------+\n",
      "|userId|           MovieRec|\n",
      "+------+-------------------+\n",
      "|     1| {177593, 5.759636}|\n",
      "|     1|    {3925, 5.68001}|\n",
      "|     1| {96004, 5.5498986}|\n",
      "|     1|  {3379, 5.5498986}|\n",
      "|     1| {171495, 5.510626}|\n",
      "|     2| {32892, 4.9223027}|\n",
      "|     2|{131724, 4.8925333}|\n",
      "|     2|  {92643, 4.839089}|\n",
      "|     2|{136469, 4.7513666}|\n",
      "|     2|  {53123, 4.715069}|\n",
      "|     3|  {3837, 5.0004992}|\n",
      "|     3|    {6835, 4.89545}|\n",
      "|     3|    {5746, 4.89545}|\n",
      "|     3|   {5181, 4.846535}|\n",
      "|     3|  {4518, 4.7833548}|\n",
      "|     4|   {2300, 4.974401}|\n",
      "|     4|{158872, 4.9174886}|\n",
      "|     4|   {3851, 4.906932}|\n",
      "|     4| {174053, 4.891874}|\n",
      "|     4|  {2384, 4.8675675}|\n",
      "+------+-------------------+\n",
      "only showing top 20 rows\n",
      "\n"
     ]
    }
   ],
   "source": [
    "ALS_recommendations.createOrReplaceTempView(\"ALS_recs_temp\")\n",
    "\n",
    "clean_recs = spark.sql (\"SELECT userId, movieIds_and_ratings.movieId AS movieId, movieIds_and_ratings.rating AS prediction FROM ALS_recs_temp LATERAL VIEW explode(recommendations) exploded_table AS movieIds_and_ratings\")\n",
    "\n",
    "exploded_recs = spark.sql (\"SELECT userId, explode(recommendations) AS MovieRec FROM ALS_recs_temp\")\n",
    "\n",
    "exploded_recs.show()\n"
   ]
  },
  {
   "cell_type": "code",
   "execution_count": 167,
   "metadata": {},
   "outputs": [
    {
     "name": "stdout",
     "output_type": "stream",
     "text": [
      "+------+-------+----------+\n",
      "|userId|movieId|prediction|\n",
      "+------+-------+----------+\n",
      "|     1| 177593|  5.759636|\n",
      "|     1|   3925|   5.68001|\n",
      "|     1|  96004| 5.5498986|\n",
      "|     1|   3379| 5.5498986|\n",
      "|     1| 171495|  5.510626|\n",
      "|     2|  32892| 4.9223027|\n",
      "|     2| 131724| 4.8925333|\n",
      "|     2|  92643|  4.839089|\n",
      "|     2| 136469| 4.7513666|\n",
      "|     2|  53123|  4.715069|\n",
      "|     3|   3837| 5.0004992|\n",
      "|     3|   6835|   4.89545|\n",
      "|     3|   5746|   4.89545|\n",
      "|     3|   5181|  4.846535|\n",
      "|     3|   4518| 4.7833548|\n",
      "|     4|   2300|  4.974401|\n",
      "|     4| 158872| 4.9174886|\n",
      "|     4|   3851|  4.906932|\n",
      "|     4| 174053|  4.891874|\n",
      "|     4|   2384| 4.8675675|\n",
      "+------+-------+----------+\n",
      "only showing top 20 rows\n",
      "\n"
     ]
    }
   ],
   "source": [
    "clean_recs.show()"
   ]
  },
  {
   "cell_type": "code",
   "execution_count": 168,
   "metadata": {},
   "outputs": [
    {
     "name": "stdout",
     "output_type": "stream",
     "text": [
      "+-------+--------------------+--------------------+\n",
      "|movieId|               title|              genres|\n",
      "+-------+--------------------+--------------------+\n",
      "|      1|    Toy Story (1995)|Adventure|Animati...|\n",
      "|      2|      Jumanji (1995)|Adventure|Childre...|\n",
      "|      3|Grumpier Old Men ...|      Comedy|Romance|\n",
      "|      4|Waiting to Exhale...|Comedy|Drama|Romance|\n",
      "|      5|Father of the Bri...|              Comedy|\n",
      "+-------+--------------------+--------------------+\n",
      "only showing top 5 rows\n",
      "\n"
     ]
    }
   ],
   "source": [
    "movie_info = spark.read.csv('movies.csv', \n",
    "                      inferSchema=True,header=True) \n",
    "  \n",
    "movie_info.show(5)"
   ]
  },
  {
   "cell_type": "code",
   "execution_count": 169,
   "metadata": {},
   "outputs": [
    {
     "name": "stdout",
     "output_type": "stream",
     "text": [
      "+-------+------+----------+--------------------+--------------------+\n",
      "|movieId|userId|prediction|               title|              genres|\n",
      "+-------+------+----------+--------------------+--------------------+\n",
      "| 177593|     1|  5.759636|Three Billboards ...|         Crime|Drama|\n",
      "|   3925|     1|   5.68001|Stranger Than Par...|        Comedy|Drama|\n",
      "|  96004|     1| 5.5498986|Dragon Ball Z: Th...|Action|Adventure|...|\n",
      "|   3379|     1| 5.5498986| On the Beach (1959)|               Drama|\n",
      "| 171495|     1|  5.510626|              Cosmos|  (no genres listed)|\n",
      "|  32892|     2| 4.9223027|Ivan's Childhood ...|           Drama|War|\n",
      "| 131724|     2| 4.8925333|The Jinx: The Lif...|         Documentary|\n",
      "|  92643|     2|  4.839089|Monsieur Lazhar (...|Children|Comedy|D...|\n",
      "| 136469|     2| 4.7513666|Larry David: Curb...|              Comedy|\n",
      "|  53123|     2|  4.715069|         Once (2006)|Drama|Musical|Rom...|\n",
      "|   3837|     3| 5.0004992|  Phantasm II (1988)|Action|Fantasy|Ho...|\n",
      "|   6835|     3|   4.89545|Alien Contaminati...|Action|Horror|Sci-Fi|\n",
      "|   5746|     3|   4.89545|Galaxy of Terror ...|Action|Horror|Mys...|\n",
      "|   5181|     3|  4.846535|    Hangar 18 (1980)|Action|Sci-Fi|Thr...|\n",
      "|   4518|     3| 4.7833548|The Lair of the W...|       Comedy|Horror|\n",
      "|   2300|     4|  4.974401|Producers, The (1...|              Comedy|\n",
      "| 158872|     4| 4.9174886|Sausage Party (2016)|    Animation|Comedy|\n",
      "|   3851|     4|  4.906932|I'm the One That ...|              Comedy|\n",
      "| 174053|     4|  4.891874|Black Mirror: Whi...|Drama|Horror|Myst...|\n",
      "|   2384|     4| 4.8675675|Babe: Pig in the ...|Adventure|Childre...|\n",
      "+-------+------+----------+--------------------+--------------------+\n",
      "only showing top 20 rows\n",
      "\n"
     ]
    }
   ],
   "source": [
    "clean_recs = clean_recs.join(movie_info, [\"movieId\"], \"left\")\n",
    "clean_recs.show()"
   ]
  },
  {
   "cell_type": "code",
   "execution_count": 170,
   "metadata": {},
   "outputs": [
    {
     "name": "stdout",
     "output_type": "stream",
     "text": [
      "+------+-------+----------+--------------------+--------------------+------+---------+\n",
      "|userId|movieId|prediction|               title|              genres|rating|timestamp|\n",
      "+------+-------+----------+--------------------+--------------------+------+---------+\n",
      "|     1| 177593|  5.759636|Three Billboards ...|         Crime|Drama|  NULL|     NULL|\n",
      "|     1|   3925|   5.68001|Stranger Than Par...|        Comedy|Drama|  NULL|     NULL|\n",
      "|     1|  96004| 5.5498986|Dragon Ball Z: Th...|Action|Adventure|...|  NULL|     NULL|\n",
      "|     1|   3379| 5.5498986| On the Beach (1959)|               Drama|  NULL|     NULL|\n",
      "|     1| 171495|  5.510626|              Cosmos|  (no genres listed)|  NULL|     NULL|\n",
      "|     2|  32892| 4.9223027|Ivan's Childhood ...|           Drama|War|  NULL|     NULL|\n",
      "|     2|  92643|  4.839089|Monsieur Lazhar (...|Children|Comedy|D...|  NULL|     NULL|\n",
      "|     2| 136469| 4.7513666|Larry David: Curb...|              Comedy|  NULL|     NULL|\n",
      "|     2|  53123|  4.715069|         Once (2006)|Drama|Musical|Rom...|  NULL|     NULL|\n",
      "|     3|   3837| 5.0004992|  Phantasm II (1988)|Action|Fantasy|Ho...|  NULL|     NULL|\n",
      "|     4|   2300|  4.974401|Producers, The (1...|              Comedy|  NULL|     NULL|\n",
      "|     4| 158872| 4.9174886|Sausage Party (2016)|    Animation|Comedy|  NULL|     NULL|\n",
      "|     4| 174053|  4.891874|Black Mirror: Whi...|Drama|Horror|Myst...|  NULL|     NULL|\n",
      "|     4|   2384| 4.8675675|Babe: Pig in the ...|Adventure|Childre...|  NULL|     NULL|\n",
      "|     5|   6380| 4.8630085|Capturing the Fri...|         Documentary|  NULL|     NULL|\n",
      "|     5|  55276| 4.7642837|Michael Clayton (...|      Drama|Thriller|  NULL|     NULL|\n",
      "|     5|   5915| 4.7588143|Victory (a.k.a. E...|    Action|Drama|War|  NULL|     NULL|\n",
      "|     5| 132333| 4.7559285|         Seve (2014)|   Documentary|Drama|  NULL|     NULL|\n",
      "|     5|  58301|  4.707692|Funny Games U.S. ...|      Drama|Thriller|  NULL|     NULL|\n",
      "|     6| 185029| 4.9738493|A Quiet Place (2018)|Drama|Horror|Thri...|  NULL|     NULL|\n",
      "+------+-------+----------+--------------------+--------------------+------+---------+\n",
      "only showing top 20 rows\n",
      "\n"
     ]
    }
   ],
   "source": [
    "clean_recs.join(ratings, [\"userId\", \"movieId\"], \"left\").filter(ratings['rating'].isNull()).show()"
   ]
  },
  {
   "cell_type": "code",
   "execution_count": 171,
   "metadata": {},
   "outputs": [],
   "source": [
    "#param_grid = ParamGridBuilder().addGrid(als.rank, [5, 40]).addGrid(als.maxIter, [5, 100]).addGrid(als.regParam, [.05, .1]).build()\n"
   ]
  },
  {
   "cell_type": "code",
   "execution_count": 172,
   "metadata": {},
   "outputs": [],
   "source": [
    "#cv = CrossValidator(estimator=als, estimatorParamMaps=param_grid, evaluator=evaluator, numFolds=3)"
   ]
  },
  {
   "cell_type": "code",
   "execution_count": 173,
   "metadata": {},
   "outputs": [],
   "source": [
    "#model = cv.fit(training_data)"
   ]
  }
 ],
 "metadata": {
  "kernelspec": {
   "display_name": "rec_pyspark",
   "language": "python",
   "name": "python3"
  },
  "language_info": {
   "codemirror_mode": {
    "name": "ipython",
    "version": 3
   },
   "file_extension": ".py",
   "mimetype": "text/x-python",
   "name": "python",
   "nbconvert_exporter": "python",
   "pygments_lexer": "ipython3",
   "version": "3.10.11"
  }
 },
 "nbformat": 4,
 "nbformat_minor": 2
}
